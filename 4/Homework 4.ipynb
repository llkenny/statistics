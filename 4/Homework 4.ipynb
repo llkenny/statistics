{
 "cells": [
  {
   "cell_type": "markdown",
   "metadata": {},
   "source": [
    "### Урок 4. Непрерывные случайные величины. Функция распределения и плотность распределения вероятностей. Равномерное и нормальное распределение. Центральная предельная теорема"
   ]
  },
  {
   "cell_type": "markdown",
   "metadata": {},
   "source": [
    "#### Задача 1\n",
    "О непрерывной равномерно распределенной случайной величине B известно, что ее дисперсия равна 0.2. Можно ли найти правую границу величины B и ее среднее значение зная, что левая граница равна 0.5? Если да, найдите ее."
   ]
  },
  {
   "cell_type": "markdown",
   "metadata": {},
   "source": [
    "#### Решение 1\n",
    "\n",
    "$$D(X) = \\frac{(b - a)^2}{12}$$\n",
    "\n",
    "D(X) = 0.2\n",
    "\n",
    "a = 0.5\n",
    "\n",
    "b = ?\n",
    "\n",
    "mean = ?"
   ]
  },
  {
   "cell_type": "code",
   "execution_count": 158,
   "metadata": {},
   "outputs": [
    {
     "data": {
      "text/plain": [
       "2.049193338482967"
      ]
     },
     "execution_count": 158,
     "metadata": {},
     "output_type": "execute_result"
    }
   ],
   "source": [
    "from math import sqrt\n",
    "\n",
    "a = 0.5\n",
    "dX = 0.2\n",
    "b = sqrt(12 * dX) + a\n",
    "b"
   ]
  },
  {
   "cell_type": "markdown",
   "metadata": {},
   "source": [
    "Правая граница b = 2.049193338482967"
   ]
  },
  {
   "cell_type": "code",
   "execution_count": 159,
   "metadata": {},
   "outputs": [
    {
     "data": {
      "text/plain": [
       "1.2745966692414834"
      ]
     },
     "execution_count": 159,
     "metadata": {},
     "output_type": "execute_result"
    }
   ],
   "source": [
    "x_mean = (a + b) / 2\n",
    "x_mean"
   ]
  },
  {
   "cell_type": "markdown",
   "metadata": {},
   "source": [
    "среднее значение = 1.2745966692414834"
   ]
  },
  {
   "cell_type": "markdown",
   "metadata": {},
   "source": [
    "#### Задача 2\n",
    "Рост взрослого населения города X имеет нормальное распределение, причем, средний рост равен 174 см, а среднее квадратическое отклонение равно 8 см. посчитайте, какова вероятность того, что случайным образом выбранный взрослый человек имеет рост:\n",
    "1. больше 182 см?\n",
    "2. больше 190 см?\n",
    "3. от 166 см до 190 см?\n",
    "4. от 166 см до 182 см?\n",
    "5. от 158 см до 190 см?\n",
    "6. не выше 150 см или не ниже 190 см?\n",
    "7. не выше 150 см или не ниже 198 см?\n",
    "8. ниже 166 см?\n",
    "Задачу можно решить двумя способами: без использования сторонних библиотек (numpy, scipy, pandas и пр.), а затем проверить себя с помощью встроенных функций"
   ]
  },
  {
   "cell_type": "markdown",
   "metadata": {},
   "source": [
    "#### Решение 2"
   ]
  },
  {
   "cell_type": "code",
   "execution_count": 160,
   "metadata": {},
   "outputs": [],
   "source": [
    "loc = 174\n",
    "scale = 8\n",
    "\n",
    "import numpy as np\n",
    "from math import erf, pow\n",
    "from scipy import stats\n",
    "\n",
    "def cdf_normal(x):\n",
    "    return (1 + erf((x - loc) / sqrt(2*pow(scale, 2)))) / 2\n",
    "\n",
    "def more_than(a):\n",
    "    result = 1 - cdf_normal(a)\n",
    "    result_stats = 1 - stats.norm.cdf(a, loc, scale)\n",
    "    print(f'{result} / {result == result_stats}')\n",
    "    \n",
    "def less_than(a):\n",
    "    result = cdf_normal(a)\n",
    "    result_stats = stats.norm.cdf(a, loc, scale)\n",
    "    print(f'{result} / {result == result_stats}')\n",
    "    \n",
    "def in_range(a, b):\n",
    "    result = cdf_normal(b) - cdf_normal(a)\n",
    "    result_stats = stats.norm.cdf(b, loc, scale) - stats.norm.cdf(a, loc, scale)\n",
    "    print(f'{result} / {result == result_stats}')\n",
    "    \n",
    "def not_in_range(a, b):\n",
    "    result = 1 - (cdf_normal(b) - cdf_normal(a))\n",
    "    result_stats = 1 - (stats.norm.cdf(b, loc, scale) - stats.norm.cdf(a, loc, scale))\n",
    "    print(f'{result} / {result == result_stats}')"
   ]
  },
  {
   "cell_type": "code",
   "execution_count": 161,
   "metadata": {},
   "outputs": [
    {
     "name": "stdout",
     "output_type": "stream",
     "text": [
      "0.15865525393145707 / True\n"
     ]
    }
   ],
   "source": [
    "# больше 182 см\n",
    "more_than(182)"
   ]
  },
  {
   "cell_type": "code",
   "execution_count": 162,
   "metadata": {},
   "outputs": [
    {
     "name": "stdout",
     "output_type": "stream",
     "text": [
      "0.02275013194817921 / True\n"
     ]
    }
   ],
   "source": [
    "# больше 190 см\n",
    "more_than(190)"
   ]
  },
  {
   "cell_type": "code",
   "execution_count": 163,
   "metadata": {},
   "outputs": [
    {
     "name": "stdout",
     "output_type": "stream",
     "text": [
      "0.8185946141203637 / True\n"
     ]
    }
   ],
   "source": [
    "# от 166 см до 190 см\n",
    "in_range(166, 190)"
   ]
  },
  {
   "cell_type": "code",
   "execution_count": 164,
   "metadata": {},
   "outputs": [
    {
     "name": "stdout",
     "output_type": "stream",
     "text": [
      "0.6826894921370859 / True\n"
     ]
    }
   ],
   "source": [
    "# от 166 см до 182 см\n",
    "in_range(166, 182)"
   ]
  },
  {
   "cell_type": "code",
   "execution_count": 165,
   "metadata": {},
   "outputs": [
    {
     "name": "stdout",
     "output_type": "stream",
     "text": [
      "0.9544997361036416 / True\n"
     ]
    }
   ],
   "source": [
    "# от 158 см до 190 см\n",
    "in_range(158, 190)"
   ]
  },
  {
   "cell_type": "code",
   "execution_count": 166,
   "metadata": {},
   "outputs": [
    {
     "name": "stdout",
     "output_type": "stream",
     "text": [
      "0.024100029979809312 / True\n"
     ]
    }
   ],
   "source": [
    "# не выше 150 см или не ниже 190 см\n",
    "not_in_range(150, 190)"
   ]
  },
  {
   "cell_type": "code",
   "execution_count": 167,
   "metadata": {},
   "outputs": [
    {
     "name": "stdout",
     "output_type": "stream",
     "text": [
      "0.002699796063260207 / True\n"
     ]
    }
   ],
   "source": [
    "# не выше 150 см или не ниже 198 см\n",
    "not_in_range(150, 198)"
   ]
  },
  {
   "cell_type": "code",
   "execution_count": 168,
   "metadata": {},
   "outputs": [
    {
     "name": "stdout",
     "output_type": "stream",
     "text": [
      "0.15865525393145707 / True\n"
     ]
    }
   ],
   "source": [
    "# ниже 166 см\n",
    "less_than(166)"
   ]
  },
  {
   "cell_type": "markdown",
   "metadata": {},
   "source": [
    "#### Задача 3 (Дополнительно)\n",
    "Коробки с шоколадом упаковываются автоматически. Их средняя масса равна 1.06 кг. Известно, что 5% коробок имеют массу, меньшую 1 кг. Найдите: а) среднее квадратическое отклонение массы коробки, б) процент коробок, имеющих массу больше 1.1 кг.\n",
    "\n",
    "Подсказка. 1. Можно считать, что распределение массы коробки нормальное. 2. Найдите такое значение scale, для которого значение cdf(x=1, loc=1.06, scale=scale) близко к 0.05. Точности 0.0001 будет достаточно."
   ]
  },
  {
   "cell_type": "markdown",
   "metadata": {},
   "source": [
    "#### Решение 3"
   ]
  },
  {
   "cell_type": "code",
   "execution_count": 169,
   "metadata": {},
   "outputs": [],
   "source": [
    "# Т.к. в задаче коробки с шоколадом, то для начала возьмем D(x) = 0.01кг, следовательно scale = 0.1. Шаг проверки возьмем за 0.01. Проверим значения scale до scale * 2."
   ]
  },
  {
   "cell_type": "code",
   "execution_count": 170,
   "metadata": {},
   "outputs": [],
   "source": [
    "start_scale = 0.1\n",
    "step = 0.01\n",
    "target = 0.05\n",
    "scales = np.arange(start_scale, start_scale * 2, step)"
   ]
  },
  {
   "cell_type": "code",
   "execution_count": 171,
   "metadata": {},
   "outputs": [
    {
     "data": {
      "text/plain": [
       "array([0.1 , 0.11, 0.12, 0.13, 0.14, 0.15, 0.16, 0.17, 0.18, 0.19])"
      ]
     },
     "execution_count": 171,
     "metadata": {},
     "output_type": "execute_result"
    }
   ],
   "source": [
    "scales"
   ]
  },
  {
   "cell_type": "code",
   "execution_count": 172,
   "metadata": {},
   "outputs": [
    {
     "data": {
      "text/plain": [
       "[0.27425311775007344,\n",
       " 0.2927204672844634,\n",
       " 0.3085375387259867,\n",
       " 0.32220616688490555,\n",
       " 0.3341175708976245,\n",
       " 0.3445782583896757,\n",
       " 0.35383023332727603,\n",
       " 0.3620662701944594,\n",
       " 0.3694413401817635,\n",
       " 0.37608115418902677]"
      ]
     },
     "execution_count": 172,
     "metadata": {},
     "output_type": "execute_result"
    }
   ],
   "source": [
    "cdfs = [stats.norm.cdf(x=1, loc=1.06, scale=s) for s in scales]\n",
    "cdfs"
   ]
  },
  {
   "cell_type": "code",
   "execution_count": 173,
   "metadata": {},
   "outputs": [
    {
     "data": {
      "text/plain": [
       "0.030000000000000013"
      ]
     },
     "execution_count": 173,
     "metadata": {},
     "output_type": "execute_result"
    }
   ],
   "source": [
    "# Полученные значения сильно отличаются от 0.05. Найдем start_scale, при котором cdf < 0.05.\n",
    "while stats.norm.cdf(x=1, loc=1.06, scale=start_scale) >= target:\n",
    "    start_scale -= step\n",
    "\n",
    "start_scale"
   ]
  },
  {
   "cell_type": "code",
   "execution_count": 174,
   "metadata": {},
   "outputs": [
    {
     "data": {
      "text/plain": [
       "0.022750131948179146"
      ]
     },
     "execution_count": 174,
     "metadata": {},
     "output_type": "execute_result"
    }
   ],
   "source": [
    "stats.norm.cdf(x=1, loc=1.06, scale=start_scale)"
   ]
  },
  {
   "cell_type": "code",
   "execution_count": 175,
   "metadata": {},
   "outputs": [],
   "source": [
    "# Генерируем scales и cdfs снова\n",
    "scales = np.arange(start_scale, start_scale * 2, step)\n",
    "cdfs = [stats.norm.cdf(x=1, loc=1.06, scale=s) for s in scales]"
   ]
  },
  {
   "cell_type": "code",
   "execution_count": 176,
   "metadata": {},
   "outputs": [
    {
     "data": {
      "text/plain": [
       "[<matplotlib.lines.Line2D at 0x7fa23c701ac0>]"
      ]
     },
     "execution_count": 176,
     "metadata": {},
     "output_type": "execute_result"
    },
    {
     "data": {
      "image/png": "[encoded data removed]",
      "text/plain": [
       "<Figure size 432x288 with 1 Axes>"
      ]
     },
     "metadata": {
      "needs_background": "light"
     },
     "output_type": "display_data"
    }
   ],
   "source": [
    "# Построим график распределения вероятности в области найденного start_scale\n",
    "import matplotlib.pyplot as plt\n",
    "\n",
    "plt.plot(scales, cdfs)"
   ]
  },
  {
   "cell_type": "code",
   "execution_count": 177,
   "metadata": {},
   "outputs": [],
   "source": [
    "# Увеличим range для наглядности в 10 раз\n",
    "scales = np.arange(start_scale, start_scale * 20, step)\n",
    "cdfs = [stats.norm.cdf(x=1, loc=1.06, scale=s) for s in scales]"
   ]
  },
  {
   "cell_type": "code",
   "execution_count": 178,
   "metadata": {},
   "outputs": [
    {
     "data": {
      "text/plain": [
       "[<matplotlib.lines.Line2D at 0x7fa23ce99700>]"
      ]
     },
     "execution_count": 178,
     "metadata": {},
     "output_type": "execute_result"
    },
    {
     "data": {
      "image/png": "[encoded data removed]",
      "text/plain": [
       "<Figure size 432x288 with 1 Axes>"
      ]
     },
     "metadata": {
      "needs_background": "light"
     },
     "output_type": "display_data"
    }
   ],
   "source": [
    "plt.plot(scales, cdfs)"
   ]
  },
  {
   "cell_type": "code",
   "execution_count": 179,
   "metadata": {},
   "outputs": [],
   "source": [
    "# Полученный график показывает, что направление решения верное, т.к. вероятность не растет бесконечно."
   ]
  },
  {
   "cell_type": "code",
   "execution_count": 180,
   "metadata": {},
   "outputs": [],
   "source": [
    "# По предыдущему графику видно, что cdf ~ target при scale ~ 0.035. Исследуем эту область точнее."
   ]
  },
  {
   "cell_type": "code",
   "execution_count": 181,
   "metadata": {},
   "outputs": [
    {
     "data": {
      "text/plain": [
       "[<matplotlib.lines.Line2D at 0x7fa23cd9f7c0>]"
      ]
     },
     "execution_count": 181,
     "metadata": {},
     "output_type": "execute_result"
    },
    {
     "data": {
      "image/png": "[encoded data removed]",
      "text/plain": [
       "<Figure size 432x288 with 1 Axes>"
      ]
     },
     "metadata": {
      "needs_background": "light"
     },
     "output_type": "display_data"
    }
   ],
   "source": [
    "start_scale = 0.034\n",
    "stop_scale = 0.038\n",
    "step = 0.001 # уменьшаем шаг\n",
    "scales = np.arange(start_scale, stop_scale, step)\n",
    "cdfs = [stats.norm.cdf(x=1, loc=1.06, scale=s) for s in scales]\n",
    "plt.plot(scales, cdfs)"
   ]
  },
  {
   "cell_type": "code",
   "execution_count": 182,
   "metadata": {},
   "outputs": [
    {
     "name": "stdout",
     "output_type": "stream",
     "text": [
      "0.0001\n",
      "0.03610000000000001\n",
      "0.03620000000000001\n",
      "0.03630000000000001\n",
      "0.036400000000000016\n",
      "1e-05\n",
      "0.03641000000000002\n",
      "0.03642000000000002\n",
      "0.036430000000000025\n",
      "0.03644000000000003\n",
      "0.03645000000000003\n",
      "0.036460000000000034\n",
      "0.03647000000000004\n",
      "0.03647000000000004\n"
     ]
    }
   ],
   "source": [
    "# Применим цикл\n",
    "\n",
    "# Требуемая точность 0.0001\n",
    "precision = 0.0001\n",
    "c_step = step\n",
    "\n",
    "# Ищем минимальное отклонение от цели \n",
    "deltas = [target - cdf for cdf in cdfs if target - cdf > 0]\n",
    "\n",
    "# Т.к. график монотонно возрастает, то последнее значение разницы - минимальное\n",
    "i = len(deltas) - 1\n",
    "scale = scales[i]\n",
    "\n",
    "while target - stats.norm.cdf(x=1, loc=1.06, scale=scale) > precision:\n",
    "    # Уменьшаем step в 10 раз\n",
    "    c_step *= 0.1\n",
    "    print(c_step)\n",
    "\n",
    "    while stats.norm.cdf(x=1, loc=1.06, scale=scale + c_step) < target:\n",
    "        scale += c_step\n",
    "        print(scale)\n",
    "    \n",
    "print(scale)"
   ]
  },
  {
   "cell_type": "code",
   "execution_count": 183,
   "metadata": {},
   "outputs": [
    {
     "data": {
      "text/plain": [
       "True"
      ]
     },
     "execution_count": 183,
     "metadata": {},
     "output_type": "execute_result"
    }
   ],
   "source": [
    "target - stats.norm.cdf(x=1, loc=1.06, scale=scale) < precision"
   ]
  },
  {
   "cell_type": "markdown",
   "metadata": {},
   "source": [
    "#### Ответ a:\n",
    "среднее квадратическое отклонение массы коробки = 0.03647"
   ]
  },
  {
   "cell_type": "code",
   "execution_count": 184,
   "metadata": {},
   "outputs": [
    {
     "data": {
      "text/plain": [
       "0.13636618948286938"
      ]
     },
     "execution_count": 184,
     "metadata": {},
     "output_type": "execute_result"
    }
   ],
   "source": [
    "# процент коробок, имеющих массу больше 1.1 кг.\n",
    "1 - stats.norm.cdf(1.1, 1.06, scale)"
   ]
  },
  {
   "cell_type": "markdown",
   "metadata": {},
   "source": [
    "#### Ответ б:\n",
    "процент коробок, имеющих массу больше 1.1 кг = 13.6366%"
   ]
  },
  {
   "cell_type": "code",
   "execution_count": null,
   "metadata": {},
   "outputs": [],
   "source": []
  }
 ],
 "metadata": {
  "kernelspec": {
   "display_name": "Python 3",
   "language": "python",
   "name": "python3"
  },
  "language_info": {
   "codemirror_mode": {
    "name": "ipython",
    "version": 3
   },
   "file_extension": ".py",
   "mimetype": "text/x-python",
   "name": "python",
   "nbconvert_exporter": "python",
   "pygments_lexer": "ipython3",
   "version": "3.8.5"
  }
 },
 "nbformat": 4,
 "nbformat_minor": 4
}
