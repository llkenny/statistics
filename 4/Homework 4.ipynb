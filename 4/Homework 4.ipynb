{
 "cells": [
  {
   "cell_type": "markdown",
   "metadata": {},
   "source": [
    "### Урок 4. Непрерывные случайные величины. Функция распределения и плотность распределения вероятностей. Равномерное и нормальное распределение. Центральная предельная теорема"
   ]
  },
  {
   "cell_type": "markdown",
   "metadata": {},
   "source": [
    "#### Задача 1\n",
    "О непрерывной равномерно распределенной случайной величине B известно, что ее дисперсия равна 0.2. Можно ли найти правую границу величины B и ее среднее значение зная, что левая граница равна 0.5? Если да, найдите ее."
   ]
  },
  {
   "cell_type": "markdown",
   "metadata": {},
   "source": [
    "#### Решение 1\n",
    "\n",
    "$$D(X) = \\frac{(b - a)^2}{12}$$\n",
    "\n",
    "D(X) = 0.2\n",
    "\n",
    "a = 0.5\n",
    "\n",
    "b = ?\n",
    "\n",
    "mean = ?"
   ]
  },
  {
   "cell_type": "code",
   "execution_count": 4,
   "metadata": {},
   "outputs": [
    {
     "data": {
      "text/plain": [
       "2.049193338482967"
      ]
     },
     "execution_count": 4,
     "metadata": {},
     "output_type": "execute_result"
    }
   ],
   "source": [
    "from math import sqrt\n",
    "\n",
    "a = 0.5\n",
    "dX = 0.2\n",
    "b = sqrt(12 * dX) + a\n",
    "b"
   ]
  },
  {
   "cell_type": "markdown",
   "metadata": {},
   "source": [
    "Правая граница b = 2.049193338482967"
   ]
  },
  {
   "cell_type": "code",
   "execution_count": 7,
   "metadata": {},
   "outputs": [
    {
     "data": {
      "text/plain": [
       "1.2745966692414834"
      ]
     },
     "execution_count": 7,
     "metadata": {},
     "output_type": "execute_result"
    }
   ],
   "source": [
    "x_mean = (a + b) / 2\n",
    "x_mean"
   ]
  },
  {
   "cell_type": "markdown",
   "metadata": {},
   "source": [
    "среднее значение = 1.2745966692414834"
   ]
  },
  {
   "cell_type": "markdown",
   "metadata": {},
   "source": [
    "#### Задача 2\n",
    "Рост взрослого населения города X имеет нормальное распределение, причем, средний рост равен 174 см, а среднее квадратическое отклонение равно 8 см. посчитайте, какова вероятность того, что случайным образом выбранный взрослый человек имеет рост:\n",
    "1. больше 182 см?\n",
    "2. больше 190 см?\n",
    "3. от 166 см до 190 см?\n",
    "4. от 166 см до 182 см?\n",
    "5. от 158 см до 190 см?\n",
    "6. не выше 150 см или не ниже 190 см?\n",
    "7. не выше 150 см или не ниже 198 см?\n",
    "8. ниже 166 см?\n",
    "Задачу можно решить двумя способами: без использования сторонних библиотек (numpy, scipy, pandas и пр.), а затем проверить себя с помощью встроенных функций"
   ]
  },
  {
   "cell_type": "markdown",
   "metadata": {},
   "source": [
    "#### Решение 2"
   ]
  },
  {
   "cell_type": "code",
   "execution_count": 48,
   "metadata": {},
   "outputs": [],
   "source": [
    "loc = 174\n",
    "scale = 8\n",
    "\n",
    "import numpy as np\n",
    "from math import erf, pow\n",
    "from scipy import stats\n",
    "\n",
    "def cdf_normal(x):\n",
    "    return (1 + erf((x - loc) / sqrt(2*pow(scale, 2)))) / 2\n",
    "\n",
    "def more_than(a):\n",
    "    result = 1 - cdf_normal(a)\n",
    "    result_stats = 1 - stats.norm.cdf(a, loc, scale)\n",
    "    print(f'{result} / {result == result_stats}')\n",
    "    \n",
    "def less_than(a):\n",
    "    result = cdf_normal(a)\n",
    "    result_stats = stats.norm.cdf(a, loc, scale)\n",
    "    print(f'{result} / {result == result_stats}')\n",
    "    \n",
    "def in_range(a, b):\n",
    "    result = cdf_normal(b) - cdf_normal(a)\n",
    "    result_stats = stats.norm.cdf(b, loc, scale) - stats.norm.cdf(a, loc, scale)\n",
    "    print(f'{result} / {result == result_stats}')\n",
    "    \n",
    "def not_in_range(a, b):\n",
    "    result = 1 - (cdf_normal(b) - cdf_normal(a))\n",
    "    result_stats = 1 - (stats.norm.cdf(b, loc, scale) - stats.norm.cdf(a, loc, scale))\n",
    "    print(f'{result} / {result == result_stats}')"
   ]
  },
  {
   "cell_type": "code",
   "execution_count": 37,
   "metadata": {},
   "outputs": [
    {
     "name": "stdout",
     "output_type": "stream",
     "text": [
      "0.15865525393145707 / True\n"
     ]
    }
   ],
   "source": [
    "# больше 182 см\n",
    "more_than(182)"
   ]
  },
  {
   "cell_type": "code",
   "execution_count": 38,
   "metadata": {},
   "outputs": [
    {
     "name": "stdout",
     "output_type": "stream",
     "text": [
      "0.02275013194817921 / True\n"
     ]
    }
   ],
   "source": [
    "# больше 190 см\n",
    "more_than(190)"
   ]
  },
  {
   "cell_type": "code",
   "execution_count": 40,
   "metadata": {},
   "outputs": [
    {
     "name": "stdout",
     "output_type": "stream",
     "text": [
      "0.8185946141203637 / True\n"
     ]
    }
   ],
   "source": [
    "# от 166 см до 190 см\n",
    "in_range(166, 190)"
   ]
  },
  {
   "cell_type": "code",
   "execution_count": 41,
   "metadata": {},
   "outputs": [
    {
     "name": "stdout",
     "output_type": "stream",
     "text": [
      "0.6826894921370859 / True\n"
     ]
    }
   ],
   "source": [
    "# от 166 см до 182 см\n",
    "in_range(166, 182)"
   ]
  },
  {
   "cell_type": "code",
   "execution_count": 42,
   "metadata": {},
   "outputs": [
    {
     "name": "stdout",
     "output_type": "stream",
     "text": [
      "0.9544997361036416 / True\n"
     ]
    }
   ],
   "source": [
    "# от 158 см до 190 см\n",
    "in_range(158, 190)"
   ]
  },
  {
   "cell_type": "code",
   "execution_count": 45,
   "metadata": {},
   "outputs": [
    {
     "name": "stdout",
     "output_type": "stream",
     "text": [
      "0.024100029979809312 / True\n"
     ]
    }
   ],
   "source": [
    "# не выше 150 см или не ниже 190 см\n",
    "not_in_range(150, 190)"
   ]
  },
  {
   "cell_type": "code",
   "execution_count": 46,
   "metadata": {},
   "outputs": [
    {
     "name": "stdout",
     "output_type": "stream",
     "text": [
      "0.002699796063260207 / True\n"
     ]
    }
   ],
   "source": [
    "# не выше 150 см или не ниже 198 см\n",
    "not_in_range(150, 198)"
   ]
  },
  {
   "cell_type": "code",
   "execution_count": 49,
   "metadata": {},
   "outputs": [
    {
     "name": "stdout",
     "output_type": "stream",
     "text": [
      "0.15865525393145707 / True\n"
     ]
    }
   ],
   "source": [
    "# ниже 166 см\n",
    "less_than(166)"
   ]
  },
  {
   "cell_type": "code",
   "execution_count": null,
   "metadata": {},
   "outputs": [],
   "source": []
  }
 ],
 "metadata": {
  "kernelspec": {
   "display_name": "Python 3",
   "language": "python",
   "name": "python3"
  },
  "language_info": {
   "codemirror_mode": {
    "name": "ipython",
    "version": 3
   },
   "file_extension": ".py",
   "mimetype": "text/x-python",
   "name": "python",
   "nbconvert_exporter": "python",
   "pygments_lexer": "ipython3",
   "version": "3.8.5"
  }
 },
 "nbformat": 4,
 "nbformat_minor": 4
}
