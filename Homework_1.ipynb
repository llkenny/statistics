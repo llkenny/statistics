{
 "cells": [
  {
   "cell_type": "markdown",
   "metadata": {},
   "source": [
    "### Домашнее задание: Урок 1. Случайные события. Условная вероятность. Формула Байеса. Независимые испытания"
   ]
  },
  {
   "cell_type": "code",
   "execution_count": 46,
   "metadata": {},
   "outputs": [],
   "source": [
    "import numpy as np"
   ]
  },
  {
   "cell_type": "code",
   "execution_count": 47,
   "metadata": {},
   "outputs": [],
   "source": [
    "def arrangements(n, k):\n",
    "    \"\"\"Размещение k элементов из n множества\"\"\"\n",
    "    return np.math.factorial(n) // np.math.factorial(n - k)\n",
    "\n",
    "def permutations(n):\n",
    "    \"\"\"Перестановка n элементов\"\"\"\n",
    "    return np.math.factorial(n)\n",
    "\n",
    "def combinations(n, k):\n",
    "    \"\"\"Сочетание k элементов из n множества\"\"\"\n",
    "    return np.math.factorial(n) // (np.math.factorial(k) * np.math.factorial(n - k))"
   ]
  },
  {
   "cell_type": "markdown",
   "metadata": {},
   "source": [
    "#### Задача 1\n",
    "Группа студентов изучает 10 различных дисциплин. Сколькими способами можно составить расписание на понедельник, если в этот день должно быть 4 разных занятия?"
   ]
  },
  {
   "cell_type": "markdown",
   "metadata": {},
   "source": [
    "#### Решение 1\n",
    "Требуется выбрать 4 упорядоченных занятия из 10 различных дисциплин. Используем формулу для размещений."
   ]
  },
  {
   "cell_type": "markdown",
   "metadata": {},
   "source": [
    "$$A_{10}^4 = \\frac{10!}{(10 - 4)!} = 5040$$"
   ]
  },
  {
   "cell_type": "code",
   "execution_count": 48,
   "metadata": {},
   "outputs": [
    {
     "data": {
      "text/plain": [
       "5040"
      ]
     },
     "execution_count": 48,
     "metadata": {},
     "output_type": "execute_result"
    }
   ],
   "source": [
    "arrangements(10, 4)"
   ]
  },
  {
   "cell_type": "markdown",
   "metadata": {},
   "source": [
    "#### Задача 2\n",
    "Из колоды в 52 карты вынимают случайным образом 4 карты. Найти число исходов, соответствующих тому, что был вытянут хотя бы один туз."
   ]
  },
  {
   "cell_type": "markdown",
   "metadata": {},
   "source": [
    "#### Решение 2\n",
    "Считаем сочетания для каждого случая выпадения туза. От 1 туза до 4-х. В каждом случае перемножаем сочетания для тузов на сочетания для оставшихся карт. Результаты всех случаев суммируем."
   ]
  },
  {
   "cell_type": "code",
   "execution_count": 49,
   "metadata": {},
   "outputs": [
    {
     "name": "stdout",
     "output_type": "stream",
     "text": [
      "Комбинации для 1 тузов: 69184\n",
      "Комбинации для 2 тузов: 6768\n",
      "Комбинации для 3 тузов: 192\n",
      "Комбинации для 4 тузов: 1\n",
      "\n",
      "Всего комбинаций: 76145\n"
     ]
    }
   ],
   "source": [
    "# Колода\n",
    "p = 52\n",
    "# Всего возможных тузов\n",
    "p_ace = 4\n",
    "# Количество выбранных карт\n",
    "cards = 4\n",
    "\n",
    "result = 0\n",
    "for k in range(1, 5):\n",
    "    c_ace = combinations(p_ace, k)\n",
    "    c_others = combinations(p - p_ace, cards - k)\n",
    "    c = c_ace * c_others\n",
    "    print(f'Комбинации для {k} тузов: {c}')\n",
    "    result += c\n",
    "\n",
    "print(f'\\nВсего комбинаций: {result}')"
   ]
  },
  {
   "cell_type": "markdown",
   "metadata": {},
   "source": [
    "#### Задача 3\n",
    "Семь человек рассаживаются наудачу на скамейке. Какова вероятность того, что два определённых человека будут сидеть рядом?\n"
   ]
  },
  {
   "cell_type": "markdown",
   "metadata": {},
   "source": [
    "#### Решение 3\n",
    "- Испытание: Рассадка 7 человек на скамейке\n",
    "- Выборочное пространство: 7\n",
    "- Событие: E = два человека рядом\n",
    "\n",
    "Количество вариантов рассадки 2-х человек из 7-и вычисляется по формуле размещения:\n",
    "$$A_{7}^2=\\frac{7!}{(7-2)!} = 42$$\n",
    "\n",
    "Множество удовлетворяющих рассадок для двух человек:\n",
    "{(Ч1, Ч2, Ч, Ч, Ч, Ч, Ч), (Ч, Ч1, Ч2, Ч, Ч, Ч, Ч), (Ч, Ч, Ч1, Ч2, Ч, Ч, Ч), (Ч, Ч, Ч, Ч1, Ч2, Ч, Ч), (Ч, Ч, Ч, Ч, Ч1, Ч2, Ч), (Ч, Ч, Ч, Ч, Ч, Ч1, Ч2)} и обратные, т.е.  = (количество человек - 1) * 2 = 12\n",
    "\n",
    "P = 12/42 = 0.2857142857142857"
   ]
  },
  {
   "cell_type": "code",
   "execution_count": 50,
   "metadata": {},
   "outputs": [
    {
     "data": {
      "text/plain": [
       "42"
      ]
     },
     "execution_count": 50,
     "metadata": {},
     "output_type": "execute_result"
    }
   ],
   "source": [
    "a = arrangements(7, 2)\n",
    "a"
   ]
  },
  {
   "cell_type": "code",
   "execution_count": 51,
   "metadata": {},
   "outputs": [
    {
     "data": {
      "text/plain": [
       "0.2857142857142857"
      ]
     },
     "execution_count": 51,
     "metadata": {},
     "output_type": "execute_result"
    }
   ],
   "source": [
    "12/42"
   ]
  },
  {
   "cell_type": "markdown",
   "metadata": {},
   "source": [
    "#### Задача 4\n",
    "Из 60 вопросов, входящих в экзаменационные билеты, студент знает 50. Какова вероятность того, что среди трёх наугад выбранных вопросов студент знает: а) все? б) два?"
   ]
  },
  {
   "cell_type": "markdown",
   "metadata": {},
   "source": [
    "#### Решение 4\n",
    "- Испытание: Выбор 3 вопросов из 60\n",
    "- Выборочное пространство: 60\n",
    "- Событие: а) Е = знает 3, б) Е = знает 2\n",
    "\n",
    "События зависимые, т.к. вытаскиваются одновременно 3 карты.\n",
    "\n",
    "$$P(A) = \\frac{50}{60} = 0.8333333333333334$$\n",
    "\n",
    "$$P(B|A) = \\frac{49}{59} = 0.8305084745762712$$\n",
    "\n",
    "$$P(C|AB) = \\frac{48}{58} = 0.8275862068965517$$\n",
    "\n",
    "a) $$P(A*B*C) = P(A) * P(B|A) * P(C|AB) = 0.5727644652250146$$\n",
    "б) $$P(A*B) = P(A) * P(B|A) = 0.692090395480226$$"
   ]
  },
  {
   "cell_type": "code",
   "execution_count": 52,
   "metadata": {},
   "outputs": [
    {
     "data": {
      "text/plain": [
       "0.8333333333333334"
      ]
     },
     "execution_count": 52,
     "metadata": {},
     "output_type": "execute_result"
    }
   ],
   "source": [
    "p_A = 50/60\n",
    "p_A"
   ]
  },
  {
   "cell_type": "code",
   "execution_count": 53,
   "metadata": {},
   "outputs": [
    {
     "data": {
      "text/plain": [
       "0.8305084745762712"
      ]
     },
     "execution_count": 53,
     "metadata": {},
     "output_type": "execute_result"
    }
   ],
   "source": [
    "p_B_A = 49/59\n",
    "p_B_A"
   ]
  },
  {
   "cell_type": "code",
   "execution_count": 54,
   "metadata": {},
   "outputs": [
    {
     "data": {
      "text/plain": [
       "0.8275862068965517"
      ]
     },
     "execution_count": 54,
     "metadata": {},
     "output_type": "execute_result"
    }
   ],
   "source": [
    "p_C_AB = 48/58\n",
    "p_C_AB"
   ]
  },
  {
   "cell_type": "code",
   "execution_count": 55,
   "metadata": {},
   "outputs": [
    {
     "data": {
      "text/plain": [
       "0.5727644652250146"
      ]
     },
     "execution_count": 55,
     "metadata": {},
     "output_type": "execute_result"
    }
   ],
   "source": [
    "p_A * p_B_A * p_C_AB"
   ]
  },
  {
   "cell_type": "code",
   "execution_count": 56,
   "metadata": {},
   "outputs": [
    {
     "data": {
      "text/plain": [
       "0.692090395480226"
      ]
     },
     "execution_count": 56,
     "metadata": {},
     "output_type": "execute_result"
    }
   ],
   "source": [
    "p_A * p_B_A"
   ]
  },
  {
   "cell_type": "markdown",
   "metadata": {},
   "source": [
    "#### Задача 5\n",
    "Бросается игральная кость. Пусть событие A - появление чётного числа, событие B - появление числа больше трёх. Являются ли эти события независимыми?"
   ]
  },
  {
   "cell_type": "markdown",
   "metadata": {},
   "source": [
    "#### Решение 5\n",
    "Нет, не являются, т.к. при расчете вероятностей следует учитывать числа 4 и 6, которые удовлетворяют обоим событиям."
   ]
  },
  {
   "cell_type": "markdown",
   "metadata": {},
   "source": [
    "#### Задача 6 (Дополнительно)\n",
    "Допустим, имеется некоторая очень редкая болезнь (поражает 0.1 % населения). Вы приходите к врачу, вам делают тест на эту болезнь, и тест оказывается положительным. Врач говорит вам, что этот тест верно выявляет 99 % больных этой болезнью и всего лишь в 1 % случаев даёт ложный положительный ответ.\n",
    "Вопрос: какова вероятность, что вы действительно больны ей?\n",
    "Подсказка: вновь используйте формулу Байеса с раскрытием знаменателя с помощью формулы полной вероятности."
   ]
  },
  {
   "cell_type": "markdown",
   "metadata": {},
   "source": [
    "- P(Болезнь) = P(D) = 0.01\n",
    "- P(Верно|Болезнь) = P(T|D) = 0.99\n",
    "- P(Верно|НЕ Болезнь) = P(T|-D) = 0.01"
   ]
  },
  {
   "cell_type": "markdown",
   "metadata": {},
   "source": [
    "#### Решение 6\n",
    "\n",
    "$$P(T) = P(T|D)\\cdot{P(D)} + P(T|-{D})\\cdot{P(-D)} = 0.99\\cdot{0.01} + 0.01\\cdot{0.99} = 0.0198$$\n",
    "\n",
    "$$P(D|T) = \\frac{P(T|D)\\cdot{P(D)}}{P(T)} = \\frac{0.99\\cdot{0.01}}{0.0198} = 0.5$$\n",
    "\n",
    "Ответ: вероятность = 0.5"
   ]
  },
  {
   "cell_type": "code",
   "execution_count": 57,
   "metadata": {},
   "outputs": [
    {
     "data": {
      "text/plain": [
       "0.0198"
      ]
     },
     "execution_count": 57,
     "metadata": {},
     "output_type": "execute_result"
    }
   ],
   "source": [
    "0.99*0.01+0.01*0.99"
   ]
  },
  {
   "cell_type": "code",
   "execution_count": 58,
   "metadata": {},
   "outputs": [
    {
     "data": {
      "text/plain": [
       "0.5"
      ]
     },
     "execution_count": 58,
     "metadata": {},
     "output_type": "execute_result"
    }
   ],
   "source": [
    "0.99*0.01/0.0198"
   ]
  },
  {
   "cell_type": "code",
   "execution_count": null,
   "metadata": {},
   "outputs": [],
   "source": []
  }
 ],
 "metadata": {
  "kernelspec": {
   "display_name": "Python 3",
   "language": "python",
   "name": "python3"
  },
  "language_info": {
   "codemirror_mode": {
    "name": "ipython",
    "version": 3
   },
   "file_extension": ".py",
   "mimetype": "text/x-python",
   "name": "python",
   "nbconvert_exporter": "python",
   "pygments_lexer": "ipython3",
   "version": "3.8.5"
  }
 },
 "nbformat": 4,
 "nbformat_minor": 4
}
