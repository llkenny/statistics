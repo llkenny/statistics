{
 "cells": [
  {
   "cell_type": "markdown",
   "metadata": {},
   "source": [
    "### Урок 2. Дискретные случайные величины. Закон распределения вероятностей. Биномиальный закон распределения. Распределение Пуассона"
   ]
  },
  {
   "cell_type": "markdown",
   "metadata": {},
   "source": [
    "#### Задача 1\n",
    "Контрольная работа состоит из пяти вопросов. На каждый вопрос приведено четыре варианта ответа, один из которых правильный. Составьте закон распределения числа правильных ответов при простом угадывании. Найдите M(X), D(X)."
   ]
  },
  {
   "cell_type": "markdown",
   "metadata": {},
   "source": [
    "#### Решение 1\n",
    "Т.к. количество испытаний неизвестно, испытания независимы и могут происходить с одинаковой вероятностью, следовательно закон распределения - биномиальный.\n",
    "\n",
    "n = 5\n",
    "p = 0.25\n",
    "\n",
    "$$P_5(X=k) = C_5^k\\cdot{0.25^k}\\cdot{0.75^{5-k}}$$\n",
    "\n",
    "$$M(X) = n\\cdot{p} = 5 * 0.25 = 1.25$$\n",
    "\n",
    "$$D(X) = n\\cdot{p}\\cdot{(1-p)} = 5\\cdot{0.25}\\cdot{0.75} = 0.9375$$"
   ]
  },
  {
   "cell_type": "code",
   "execution_count": 2,
   "metadata": {},
   "outputs": [
    {
     "data": {
      "text/plain": [
       "0.9375"
      ]
     },
     "execution_count": 2,
     "metadata": {},
     "output_type": "execute_result"
    }
   ],
   "source": [
    "5 * 0.25 * 0.75"
   ]
  },
  {
   "cell_type": "markdown",
   "metadata": {},
   "source": [
    "#### Задача 2\n",
    "Вероятность попадания в цель при одном выстреле равна 0.01. Какова вероятность того, что число попаданий при 200 выстрелах будет не менее 5 и не более 10?"
   ]
  },
  {
   "cell_type": "markdown",
   "metadata": {},
   "source": [
    "#### Решение 2\n",
    "Т.к. вероятность по отношению к числу попаданий мала и число испытаний определено, следовательно можно применить закон распределения редких явлений.\n",
    "\n",
    "$$a = n\\cdot{p} = 0.01\\cdot{200} = 2$$\n",
    "\n",
    "$$5\\leq{k}\\leq{10}$$\n",
    "\n",
    "$$P(5\\leq{X}\\leq{10}) = \\displaystyle\\sum_{k = 5}^{10} \\dfrac{2^{k} e^{-2}}{k!}$$\n",
    "\n",
    "Ответ: вероятность = 0.052644709119342686"
   ]
  },
  {
   "cell_type": "code",
   "execution_count": 8,
   "metadata": {},
   "outputs": [],
   "source": [
    "import numpy as np\n",
    "\n",
    "def poisson_proba(k, a):\n",
    "    \n",
    "    return (a ** k) * (np.exp(-a)) / np.math.factorial(k)"
   ]
  },
  {
   "cell_type": "code",
   "execution_count": 9,
   "metadata": {},
   "outputs": [
    {
     "data": {
      "text/plain": [
       "0.052644709119342686"
      ]
     },
     "execution_count": 9,
     "metadata": {},
     "output_type": "execute_result"
    }
   ],
   "source": [
    "a = 2\n",
    "sum(poisson_proba(i, a) for i in range(5, 11))"
   ]
  },
  {
   "cell_type": "markdown",
   "metadata": {},
   "source": [
    "#### Задача 3\n",
    "В условиях предыдущей задачи сколько выстрелов нужно сделать чтобы быть уверенным с вероятностью 0.9, что хотя бы 10 раз будет совершено попадание?\n",
    "Подсказка. Как посчитать P(X >= k) для величины X, имеющей биномиальное распределение? Здесь предстоит немножко покодить."
   ]
  },
  {
   "cell_type": "markdown",
   "metadata": {},
   "source": [
    "#### Решение 3:\n",
    "Используем формулу Бернулли: $$P(X = k) = C_n^k p^k (1 - p)^{n - k}$$\n",
    "\n",
    "Требуется найти n.\n",
    "\n",
    "$$k = 10$$\n",
    "$$P(X\\ge{k})\\ge{0.9}$$\n",
    "\n",
    "Из условия предыдущей задачи:\n",
    "$$p=0.01$$\n",
    "\n",
    "Итоговая формула:\n",
    "$$C_n^{10}\\cdot{0.01^{10}}\\cdot(1 - 0.01)^{n - 10}\\ge{0.9}$$"
   ]
  },
  {
   "cell_type": "code",
   "execution_count": 30,
   "metadata": {},
   "outputs": [],
   "source": [
    "# Формула для комбинаций из предыдущего урока\n",
    "def combinations(n, k):\n",
    "    return np.math.factorial(n) // (np.math.factorial(k) * np.math.factorial(n - k))\n",
    "\n",
    "# Итоговая формула\n",
    "def bernulli_proba(n):\n",
    "    return combinations(n, 10) * 0.01 ** 10 * (1-0.01) ** (n-10)"
   ]
  },
  {
   "cell_type": "code",
   "execution_count": 34,
   "metadata": {},
   "outputs": [
    {
     "name": "stdout",
     "output_type": "stream",
     "text": [
      "Ответ: 10000 выстрелов\n"
     ]
    }
   ],
   "source": [
    "n = k = 10 # т.к. общее количество испытаний не может быть меньше количества бросков из условия задачи\n",
    "\n",
    "y = []\n",
    "while (bernulli_proba(n) < 0.9) & (n < 10000):\n",
    "    y.append(bernulli_proba(n))\n",
    "    n += 1\n",
    "\n",
    "print(f'Ответ: {n} выстрелов')"
   ]
  },
  {
   "cell_type": "code",
   "execution_count": 36,
   "metadata": {},
   "outputs": [
    {
     "data": {
      "text/plain": [
       "[<matplotlib.lines.Line2D at 0x7fbb5894bc70>]"
      ]
     },
     "execution_count": 36,
     "metadata": {},
     "output_type": "execute_result"
    },
    {
     "data": {
      "image/png": "[encoded data removed]",
      "text/plain": [
       "<Figure size 432x288 with 1 Axes>"
      ]
     },
     "metadata": {
      "needs_background": "light"
     },
     "output_type": "display_data"
    }
   ],
   "source": [
    "import matplotlib.pyplot as plt\n",
    "plt.plot(y)"
   ]
  },
  {
   "cell_type": "code",
   "execution_count": 39,
   "metadata": {},
   "outputs": [
    {
     "data": {
      "text/plain": [
       "0.12574021112620629"
      ]
     },
     "execution_count": 39,
     "metadata": {},
     "output_type": "execute_result"
    }
   ],
   "source": [
    "max(y)"
   ]
  },
  {
   "cell_type": "markdown",
   "metadata": {},
   "source": [
    "Вывод: из графика видно, что вероятность 0.9 никогда не будет достигнута."
   ]
  },
  {
   "cell_type": "code",
   "execution_count": null,
   "metadata": {},
   "outputs": [],
   "source": []
  }
 ],
 "metadata": {
  "kernelspec": {
   "display_name": "Python 3",
   "language": "python",
   "name": "python3"
  },
  "language_info": {
   "codemirror_mode": {
    "name": "ipython",
    "version": 3
   },
   "file_extension": ".py",
   "mimetype": "text/x-python",
   "name": "python",
   "nbconvert_exporter": "python",
   "pygments_lexer": "ipython3",
   "version": "3.8.5"
  }
 },
 "nbformat": 4,
 "nbformat_minor": 4
}
